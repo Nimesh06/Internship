{
 "cells": [
  {
   "cell_type": "markdown",
   "metadata": {},
   "source": [
    "# Q11. Program to find factorial of a  number (user provided)"
   ]
  },
  {
   "cell_type": "code",
   "execution_count": 32,
   "metadata": {},
   "outputs": [
    {
     "name": "stdout",
     "output_type": "stream",
     "text": [
      "Enter a number:10\n",
      "The factorial of 10 is 3628800\n"
     ]
    }
   ],
   "source": [
    "num=int(input('Enter a number:'))\n",
    "\n",
    "factorial=1\n",
    "\n",
    "if num < 0:\n",
    "    print('Please enter a positive number')\n",
    "elif num == 0:\n",
    "    print('The factorial of 0 is 1')\n",
    "else:\n",
    "    for i in range(1,num + 1):\n",
    "        factorial = factorial*i\n",
    "    print('The factorial of',num,'is',factorial)\n",
    "    \n",
    "    "
   ]
  },
  {
   "cell_type": "markdown",
   "metadata": {},
   "source": [
    "\n",
    "# Q12. Program to find whether a number is prime or composite"
   ]
  },
  {
   "cell_type": "code",
   "execution_count": 74,
   "metadata": {},
   "outputs": [
    {
     "name": "stdout",
     "output_type": "stream",
     "text": [
      "Enter the number to check whether it is prime or composite: 15\n",
      "The number 15 is a composite number\n"
     ]
    }
   ],
   "source": [
    "num = int(input('Enter the number to check whether it is prime or composite: '))\n",
    "\n",
    "flag=False\n",
    "if num > 1:\n",
    "    for i in range(2,num):\n",
    "        if(num%i) ==0:\n",
    "            flag=True\n",
    "            break\n",
    "            \n",
    "if flag:\n",
    "    print('The number',num,'is a composite number')\n",
    "else: \n",
    "    print('The number',num,'is a prime number')"
   ]
  },
  {
   "cell_type": "markdown",
   "metadata": {},
   "source": [
    "# Q13. Program to check whether a given string is palindrome or not"
   ]
  },
  {
   "cell_type": "code",
   "execution_count": 71,
   "metadata": {},
   "outputs": [
    {
     "name": "stdout",
     "output_type": "stream",
     "text": [
      "Enter a string: dalda\n",
      "The string dalda is not a palindrome\n"
     ]
    }
   ],
   "source": [
    "string=input('Enter a string: ')\n",
    "if(string==string[::-1]):\n",
    "    print('The string',string,'is a palindrome')\n",
    "else:\n",
    "    print('The string',string,'is not a palindrome')"
   ]
  },
  {
   "cell_type": "markdown",
   "metadata": {},
   "source": [
    "# Q14. Program to get the third side of right-angled triangle from two given sides."
   ]
  },
  {
   "cell_type": "code",
   "execution_count": 54,
   "metadata": {},
   "outputs": [
    {
     "name": "stdout",
     "output_type": "stream",
     "text": [
      "base=3.0\n",
      "perpendicular=4.0\n",
      "hypotneuse=5.0\n",
      "The answer is already known\n"
     ]
    }
   ],
   "source": [
    "def pythagoras(base,perpendicular,hypotenuse):\n",
    "    if base == str('x'):\n",
    "        return ('base='+str(((hypotenuse**2)-(perpendicular**2))**0.5))\n",
    "    if perpendicular == str('x'):\n",
    "        return ('perpendicular='+str(((hypotenuse**2)-(base**2))**0.5))\n",
    "    if hypotenuse == str('x'):\n",
    "        return ('hypotneuse='+str(((base**2)+(perpendicular**2))**0.5))\n",
    "    else: \n",
    "        return ('The answer is already known')\n",
    "\n",
    "print(pythagoras('x',4,5))\n",
    "print(pythagoras(3,'x',5))\n",
    "print(pythagoras(3,4,'x'))\n",
    "print(pythagoras(3,4,5))\n"
   ]
  },
  {
   "cell_type": "markdown",
   "metadata": {},
   "source": [
    "# Q15. Program to print the frequency of each of the characters present in a given string. "
   ]
  },
  {
   "cell_type": "code",
   "execution_count": 70,
   "metadata": {},
   "outputs": [
    {
     "name": "stdout",
     "output_type": "stream",
     "text": [
      "Enter the string: google\n",
      "{'g': 2, 'o': 2, 'l': 1, 'e': 1}\n"
     ]
    }
   ],
   "source": [
    "def char_freq(str):\n",
    "    dict={}\n",
    "    for n in str:\n",
    "        keys=dict.keys()\n",
    "        if n in keys:\n",
    "            dict[n]+=1\n",
    "        else:\n",
    "            dict[n]=1\n",
    "    return dict\n",
    "\n",
    "\n",
    "char=input('Enter the string: ')\n",
    "print(char_freq(char))"
   ]
  },
  {
   "cell_type": "code",
   "execution_count": null,
   "metadata": {},
   "outputs": [],
   "source": []
  }
 ],
 "metadata": {
  "kernelspec": {
   "display_name": "Python 3",
   "language": "python",
   "name": "python3"
  },
  "language_info": {
   "codemirror_mode": {
    "name": "ipython",
    "version": 3
   },
   "file_extension": ".py",
   "mimetype": "text/x-python",
   "name": "python",
   "nbconvert_exporter": "python",
   "pygments_lexer": "ipython3",
   "version": "3.8.5"
  }
 },
 "nbformat": 4,
 "nbformat_minor": 4
}
